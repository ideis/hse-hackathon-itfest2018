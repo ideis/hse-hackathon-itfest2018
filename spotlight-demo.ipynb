{
 "cells": [
  {
   "cell_type": "code",
   "execution_count": 1,
   "metadata": {},
   "outputs": [],
   "source": [
    "import pandas as pd\n",
    "import numpy as np\n",
    "import matplotlib.pyplot as plt\n",
    "%matplotlib inline\n",
    "\n",
    "import warnings\n",
    "warnings.filterwarnings('ignore')"
   ]
  },
  {
   "cell_type": "code",
   "execution_count": 12,
   "metadata": {},
   "outputs": [
    {
     "data": {
      "text/html": [
       "<div>\n",
       "<style scoped>\n",
       "    .dataframe tbody tr th:only-of-type {\n",
       "        vertical-align: middle;\n",
       "    }\n",
       "\n",
       "    .dataframe tbody tr th {\n",
       "        vertical-align: top;\n",
       "    }\n",
       "\n",
       "    .dataframe thead th {\n",
       "        text-align: right;\n",
       "    }\n",
       "</style>\n",
       "<table border=\"1\" class=\"dataframe\">\n",
       "  <thead>\n",
       "    <tr style=\"text-align: right;\">\n",
       "      <th></th>\n",
       "      <th>user_id</th>\n",
       "      <th>item_id</th>\n",
       "      <th>timestamp</th>\n",
       "    </tr>\n",
       "  </thead>\n",
       "  <tbody>\n",
       "    <tr>\n",
       "      <th>0</th>\n",
       "      <td>0</td>\n",
       "      <td>294703</td>\n",
       "      <td>1529661427</td>\n",
       "    </tr>\n",
       "    <tr>\n",
       "      <th>1</th>\n",
       "      <td>0</td>\n",
       "      <td>294703</td>\n",
       "      <td>1529671360</td>\n",
       "    </tr>\n",
       "    <tr>\n",
       "      <th>2</th>\n",
       "      <td>1</td>\n",
       "      <td>294703</td>\n",
       "      <td>1529660632</td>\n",
       "    </tr>\n",
       "    <tr>\n",
       "      <th>3</th>\n",
       "      <td>2</td>\n",
       "      <td>294703</td>\n",
       "      <td>1529669019</td>\n",
       "    </tr>\n",
       "    <tr>\n",
       "      <th>4</th>\n",
       "      <td>2</td>\n",
       "      <td>294703</td>\n",
       "      <td>1529675314</td>\n",
       "    </tr>\n",
       "    <tr>\n",
       "      <th>5</th>\n",
       "      <td>3</td>\n",
       "      <td>294703</td>\n",
       "      <td>1529712267</td>\n",
       "    </tr>\n",
       "    <tr>\n",
       "      <th>6</th>\n",
       "      <td>2</td>\n",
       "      <td>294703</td>\n",
       "      <td>1529696333</td>\n",
       "    </tr>\n",
       "    <tr>\n",
       "      <th>7</th>\n",
       "      <td>0</td>\n",
       "      <td>294703</td>\n",
       "      <td>1529724454</td>\n",
       "    </tr>\n",
       "    <tr>\n",
       "      <th>8</th>\n",
       "      <td>4</td>\n",
       "      <td>294703</td>\n",
       "      <td>1529705798</td>\n",
       "    </tr>\n",
       "    <tr>\n",
       "      <th>9</th>\n",
       "      <td>2</td>\n",
       "      <td>294703</td>\n",
       "      <td>1529721260</td>\n",
       "    </tr>\n",
       "  </tbody>\n",
       "</table>\n",
       "</div>"
      ],
      "text/plain": [
       "   user_id  item_id   timestamp\n",
       "0        0   294703  1529661427\n",
       "1        0   294703  1529671360\n",
       "2        1   294703  1529660632\n",
       "3        2   294703  1529669019\n",
       "4        2   294703  1529675314\n",
       "5        3   294703  1529712267\n",
       "6        2   294703  1529696333\n",
       "7        0   294703  1529724454\n",
       "8        4   294703  1529705798\n",
       "9        2   294703  1529721260"
      ]
     },
     "execution_count": 12,
     "metadata": {},
     "output_type": "execute_result"
    }
   ],
   "source": [
    "df = pd.read_csv('data/theepochtimes_com/news_dataset.csv', usecols=['user_id', 'item_id', 'timestamp'])\n",
    "df.head(10)"
   ]
  },
  {
   "cell_type": "code",
   "execution_count": 13,
   "metadata": {},
   "outputs": [
    {
     "name": "stdout",
     "output_type": "stream",
     "text": [
      "Start time:\n",
      "22/06/2018 00:00:00\n",
      "End time:\n",
      "28/06/2018 23:59:59\n",
      "\n",
      "Train #users: 41060\n",
      "Train #items: 1681\n",
      "Test #users: 11617\n",
      "Test #items: 674\n"
     ]
    }
   ],
   "source": [
    "from datetime import datetime\n",
    "from pytz import timezone\n",
    "\n",
    "def make_interval(start_time, end_time, timestamps):\n",
    "    if start_time == 'first':\n",
    "        start_timestamp = timestamps[0]\n",
    "    else:\n",
    "        start_datetime = datetime.strptime(start_time, '%d/%m/%Y %H:%M:%S')\n",
    "        start_timestamp = (start_datetime - datetime(1970, 1, 1)).total_seconds()\n",
    "\n",
    "    if end_time == 'last':\n",
    "        end_timestamp = timestamps[-1]\n",
    "    else:\n",
    "        end_datetime = datetime.strptime(end_time, '%d/%m/%Y %H:%M:%S')\n",
    "        end_timestamp = (end_datetime - datetime(1970, 1, 1)).total_seconds()\n",
    "\n",
    "    return df[(df['timestamp'] > start_timestamp) & (df['timestamp'] < end_timestamp)]\n",
    "\n",
    "df.sort_values(by='timestamp', inplace=True)\n",
    "print('Start time:')\n",
    "print(datetime.fromtimestamp(df.iloc[0][2], tz=timezone('US/Eastern')).strftime('%d/%m/%Y %H:%M:%S'))\n",
    "print('End time:')\n",
    "print(datetime.fromtimestamp(df.iloc[-1][2], tz=timezone('US/Eastern')).strftime('%d/%m/%Y %H:%M:%S'))\n",
    "\n",
    "# choose date between 2018-06-22 00:00:00 and 2018-06-28 23:59:59\n",
    "train = make_interval('22/06/2018 10:00:00', '22/06/2018 18:00:00', df.timestamp)\n",
    "test  = make_interval('22/06/2018 18:00:00', '22/06/2018 19:00:00', df.timestamp)\n",
    "\n",
    "print()\n",
    "print(f'Train #users: {len(train.user_id.unique())}')\n",
    "print(f'Train #items: {len(train.item_id.unique())}')\n",
    "print(f'Test #users: {len(test.user_id.unique())}')\n",
    "print(f'Test #items: {len(test.item_id.unique())}')"
   ]
  },
  {
   "cell_type": "code",
   "execution_count": 14,
   "metadata": {},
   "outputs": [],
   "source": [
    "from spotlight.interactions import Interactions\n",
    "train_interactions = Interactions(train['user_id'].values, train['item_id'].values, train['timestamp'].values)\n",
    "test_interactions = Interactions(test['user_id'].values, test['item_id'].values, test['timestamp'].values)"
   ]
  },
  {
   "cell_type": "code",
   "execution_count": 22,
   "metadata": {},
   "outputs": [],
   "source": [
    "from spotlight.factorization.implicit import ImplicitFactorizationModel\n",
    "\n",
    "model = ImplicitFactorizationModel(n_iter=1, embedding_dim=10, loss='adaptive_hinge', learning_rate=0.2)\n",
    "model.fit(train_interactions)"
   ]
  },
  {
   "cell_type": "code",
   "execution_count": 23,
   "metadata": {},
   "outputs": [
    {
     "name": "stdout",
     "output_type": "stream",
     "text": [
      "Precision@10: 0.0011276577429628991\n",
      "Recall@10: 0.007146443840512876\n"
     ]
    }
   ],
   "source": [
    "from spotlight.evaluation import precision_recall_score\n",
    "\n",
    "k = 10\n",
    "precision_recall = precision_recall_score(model, test_interactions, k=k)\n",
    "\n",
    "print(f'Precision@{k}: {precision_recall[0].mean()}')\n",
    "print(f'Recall@{k}: {precision_recall[1].mean()}')"
   ]
  }
 ],
 "metadata": {
  "kernelspec": {
   "display_name": "Python 3",
   "language": "python",
   "name": "python3"
  },
  "language_info": {
   "codemirror_mode": {
    "name": "ipython",
    "version": 3
   },
   "file_extension": ".py",
   "mimetype": "text/x-python",
   "name": "python",
   "nbconvert_exporter": "python",
   "pygments_lexer": "ipython3",
   "version": "3.6.3"
  }
 },
 "nbformat": 4,
 "nbformat_minor": 2
}
